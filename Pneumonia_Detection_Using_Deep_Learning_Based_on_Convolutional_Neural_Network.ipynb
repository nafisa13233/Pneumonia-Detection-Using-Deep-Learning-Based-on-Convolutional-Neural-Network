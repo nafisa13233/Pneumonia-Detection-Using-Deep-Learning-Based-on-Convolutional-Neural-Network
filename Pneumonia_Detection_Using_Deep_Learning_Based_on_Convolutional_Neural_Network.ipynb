{
  "cells": [
    {
      "cell_type": "markdown",
      "metadata": {
        "id": "fDRZlL9Xo6Iq"
      },
      "source": [
        "# **Import Libraries**"
      ]
    },
    {
      "cell_type": "code",
      "execution_count": null,
      "metadata": {
        "id": "wKTBVwZJo3lR"
      },
      "outputs": [],
      "source": [
        "import keras\n",
        "import os\n",
        "import tensorflow as tf \n",
        "from tensorflow import keras\n",
        "from keras.models import Sequential\n",
        "from keras.layers import Conv2D,MaxPooling2D,Flatten,Dropout,Dense,BatchNormalization,SpatialDropout2D\n",
        "from google.colab import drive\n",
        "import matplotlib.pyplot as plt\n",
        "from keras.preprocessing.image import ImageDataGenerator"
      ]
    },
    {
      "cell_type": "markdown",
      "metadata": {
        "id": "RvFBnpqvpKZh"
      },
      "source": [
        "# **Load Data**"
      ]
    },
    {
      "cell_type": "code",
      "execution_count": null,
      "metadata": {
        "colab": {
          "base_uri": "https://localhost:8080/"
        },
        "id": "CR0OWtwRpJvq",
        "outputId": "848428ad-949d-407b-c13a-fba05aa028cf"
      },
      "outputs": [
        {
          "name": "stdout",
          "output_type": "stream",
          "text": [
            "Mounted at /content/drive\n"
          ]
        }
      ],
      "source": [
        "drive.mount('/content/drive')"
      ]
    },
    {
      "cell_type": "code",
      "execution_count": null,
      "metadata": {
        "colab": {
          "base_uri": "https://localhost:8080/"
        },
        "id": "Gl-J_tZvpQ2-",
        "outputId": "5f761dde-b697-4301-90ec-2d41492541ea"
      },
      "outputs": [
        {
          "name": "stdout",
          "output_type": "stream",
          "text": [
            "/content\n"
          ]
        }
      ],
      "source": [
        "!pwd"
      ]
    },
    {
      "cell_type": "code",
      "execution_count": null,
      "metadata": {
        "colab": {
          "base_uri": "https://localhost:8080/"
        },
        "id": "hUXaZGgTpUAu",
        "outputId": "e6556f37-234f-49a0-80d6-41eb53a3c175"
      },
      "outputs": [
        {
          "name": "stdout",
          "output_type": "stream",
          "text": [
            "/content/drive/Shareddrives/Jinishpati Pro Max/soft_com/input/chest_xray\n"
          ]
        }
      ],
      "source": [
        "os.chdir('/content/drive/Shareddrives/Jinishpati Pro Max/soft_com/input/chest_xray')\n",
        "!pwd"
      ]
    },
    {
      "cell_type": "markdown",
      "metadata": {
        "id": "yPVd4pIhtkEc"
      },
      "source": [
        "# Preprocessing the Training set"
      ]
    },
    {
      "cell_type": "code",
      "execution_count": null,
      "metadata": {
        "colab": {
          "base_uri": "https://localhost:8080/"
        },
        "id": "TfdfGpbZtsmd",
        "outputId": "76c46a4d-01ad-4e3b-e8f4-995f6ae8d429"
      },
      "outputs": [
        {
          "name": "stdout",
          "output_type": "stream",
          "text": [
            "Found 5216 images belonging to 2 classes.\n"
          ]
        }
      ],
      "source": [
        "train_datagen = ImageDataGenerator(\n",
        "        rescale=1./255,\n",
        "        shear_range=0.2,\n",
        "        zoom_range=0.2,\n",
        "        horizontal_flip=True)\n",
        "\n",
        "test_datagen = ImageDataGenerator(rescale=1./255)\n",
        "\n",
        "training_set = train_datagen.flow_from_directory(\n",
        "        '/content/drive/Shareddrives/Jinishpati Pro Max/soft_com/input/chest_xray/train',\n",
        "        target_size=(128,128),\n",
        "        batch_size=16 ,\n",
        "        class_mode='binary')"
      ]
    },
    {
      "cell_type": "markdown",
      "metadata": {
        "id": "7K6lwK24tpFA"
      },
      "source": [
        "# Preprocessing the Test set"
      ]
    },
    {
      "cell_type": "code",
      "execution_count": null,
      "metadata": {
        "colab": {
          "base_uri": "https://localhost:8080/"
        },
        "id": "KDxkAqwvuLQ1",
        "outputId": "65c9c27f-814d-4ff6-ca4d-6958c4f474d5"
      },
      "outputs": [
        {
          "name": "stdout",
          "output_type": "stream",
          "text": [
            "Found 624 images belonging to 2 classes.\n"
          ]
        }
      ],
      "source": [
        "test_datagen = ImageDataGenerator(rescale = 1./255)\n",
        "\n",
        "test_set = test_datagen.flow_from_directory(\n",
        "        '/content/drive/Shareddrives/Jinishpati Pro Max/soft_com/input/chest_xray/test',\n",
        "        target_size=(128,128),\n",
        "        batch_size=16,\n",
        "        class_mode='binary')"
      ]
    },
    {
      "cell_type": "markdown",
      "metadata": {
        "id": "hl1r0RU1pb07"
      },
      "source": [
        "# **Building CNN**"
      ]
    },
    {
      "cell_type": "markdown",
      "metadata": {
        "id": "nui9OdW9qP0r"
      },
      "source": [
        "**Initialising the CNN**"
      ]
    },
    {
      "cell_type": "code",
      "execution_count": null,
      "metadata": {
        "id": "MkusHpQXpWyK"
      },
      "outputs": [],
      "source": [
        "cnn = tf.keras.models.Sequential()"
      ]
    },
    {
      "cell_type": "markdown",
      "metadata": {
        "id": "yZSfquEVpkOO"
      },
      "source": [
        "**Layers**"
      ]
    },
    {
      "cell_type": "code",
      "execution_count": null,
      "metadata": {
        "id": "NI5USM5Ypa9R"
      },
      "outputs": [],
      "source": [
        "cnn.add(tf.keras.layers.Conv2D(filters=32, kernel_size=3, padding='same', activation='relu', input_shape=[128,128, 3])) #Step 1 - Convolution\n",
        "cnn.add(tf.keras.layers.MaxPool2D(pool_size=2, strides=2)) #Step 2 - Pooling\n",
        "cnn.add(SpatialDropout2D(0.1))"
      ]
    },
    {
      "cell_type": "code",
      "execution_count": null,
      "metadata": {
        "id": "jtiyudlyy5DY"
      },
      "outputs": [],
      "source": [
        "cnn.add(tf.keras.layers.Conv2D(filters=32, kernel_size=3, padding='same', activation='relu')) #Step 1 - Convolution\n",
        "cnn.add(tf.keras.layers.MaxPool2D(pool_size=2, strides=2)) #Step 2 - Pooling\n",
        "cnn.add(BatchNormalization())\n",
        "cnn.add(SpatialDropout2D(0.2))"
      ]
    },
    {
      "cell_type": "code",
      "execution_count": null,
      "metadata": {
        "id": "Wqsr4t2MrAEc"
      },
      "outputs": [],
      "source": [
        "cnn.add(tf.keras.layers.Conv2D(filters=32, kernel_size=3, padding='same', activation='relu')) #Step 1 - Convolution\n",
        "cnn.add(tf.keras.layers.MaxPool2D(pool_size=2, strides=2)) #Step 2 - Pooling\n",
        "cnn.add(BatchNormalization())\n",
        "cnn.add(SpatialDropout2D(0.2))"
      ]
    },
    {
      "cell_type": "code",
      "execution_count": null,
      "metadata": {
        "id": "KWWOPpE4rPiu"
      },
      "outputs": [],
      "source": [
        "cnn.add(tf.keras.layers.Conv2D(filters=32, kernel_size=3, padding='same', activation='relu')) #Step 1 - Convolution\n",
        "cnn.add(tf.keras.layers.MaxPool2D(pool_size=2, strides=2)) #Step 2 - Pooling\n",
        "cnn.add(BatchNormalization())\n",
        "cnn.add(SpatialDropout2D(0.3))"
      ]
    },
    {
      "cell_type": "code",
      "execution_count": null,
      "metadata": {
        "id": "SVDi2hrirQSl"
      },
      "outputs": [],
      "source": [
        "cnn.add(tf.keras.layers.Conv2D(filters=32, kernel_size=3, padding='same', activation='relu')) #Step 1 - Convolution\n",
        "cnn.add(tf.keras.layers.MaxPool2D(pool_size=2, strides=2)) #Step 2 - Pooling\n",
        "cnn.add(BatchNormalization())\n",
        "cnn.add(SpatialDropout2D(0.3))"
      ]
    },
    {
      "cell_type": "code",
      "execution_count": null,
      "metadata": {
        "id": "w3n-xqi4zkif"
      },
      "outputs": [],
      "source": [
        "cnn.add(tf.keras.layers.Conv2D(filters=32, kernel_size=3, padding='same', activation='relu')) #Step 1 - Convolution\n",
        "cnn.add(tf.keras.layers.MaxPool2D(pool_size=2, strides=2)) #Step 2 - Pooling\n",
        "cnn.add(BatchNormalization())\n",
        "cnn.add(SpatialDropout2D(0.3))"
      ]
    },
    {
      "cell_type": "code",
      "execution_count": null,
      "metadata": {
        "id": "yHBev3i1rkc2"
      },
      "outputs": [],
      "source": [
        "cnn.add(tf.keras.layers.Conv2D(filters=32, kernel_size=3, padding='same', activation='relu')) #Step 1 - Convolution\n",
        "cnn.add(tf.keras.layers.MaxPool2D(pool_size=2, strides=2)) #Step 2 - Pooling\n",
        "cnn.add(BatchNormalization())\n",
        "cnn.add(SpatialDropout2D(0.5))"
      ]
    },
    {
      "cell_type": "code",
      "execution_count": null,
      "metadata": {
        "id": "kwiznMyRsBmW"
      },
      "outputs": [],
      "source": [
        "cnn.add(tf.keras.layers.Flatten()) #Step 3 - Flattening\n",
        "cnn.add(Dropout(0.5))\n",
        "cnn.add(tf.keras.layers.Dense(units=128, activation='relu')) #Step 4 - Full Connection\n",
        "cnn.add(Dropout(0.5))\n",
        "cnn.add(tf.keras.layers.Dense(units=128, activation='relu')) #Step 4 - Full Connection\n",
        "cnn.add(Dropout(0.5))\n",
        "cnn.add(tf.keras.layers.Dense(units=1, activation='sigmoid')) #Step 5 - Output Layer"
      ]
    },
    {
      "cell_type": "markdown",
      "metadata": {
        "id": "ayMBJm5tspp-"
      },
      "source": [
        "# **Compiling the CNN**"
      ]
    },
    {
      "cell_type": "code",
      "execution_count": null,
      "metadata": {
        "id": "qdlf_GwVs3Fl"
      },
      "outputs": [],
      "source": [
        "adam=keras.optimizers.Adam(learning_rate=0.001)\n",
        "cnn.compile(optimizer = 'adam', loss = 'binary_crossentropy', metrics = ['accuracy'])"
      ]
    },
    {
      "cell_type": "code",
      "execution_count": null,
      "metadata": {
        "colab": {
          "base_uri": "https://localhost:8080/"
        },
        "id": "kmCnJa9cu_JR",
        "outputId": "77613718-c562-4f2d-fa7c-238b0b709c4b"
      },
      "outputs": [
        {
          "name": "stdout",
          "output_type": "stream",
          "text": [
            "Model: \"sequential\"\n",
            "_________________________________________________________________\n",
            " Layer (type)                Output Shape              Param #   \n",
            "=================================================================\n",
            " conv2d (Conv2D)             (None, 128, 128, 32)      896       \n",
            "                                                                 \n",
            " max_pooling2d (MaxPooling2D  (None, 64, 64, 32)       0         \n",
            " )                                                               \n",
            "                                                                 \n",
            " spatial_dropout2d (SpatialD  (None, 64, 64, 32)       0         \n",
            " ropout2D)                                                       \n",
            "                                                                 \n",
            " conv2d_1 (Conv2D)           (None, 64, 64, 32)        9248      \n",
            "                                                                 \n",
            " max_pooling2d_1 (MaxPooling  (None, 32, 32, 32)       0         \n",
            " 2D)                                                             \n",
            "                                                                 \n",
            " batch_normalization (BatchN  (None, 32, 32, 32)       128       \n",
            " ormalization)                                                   \n",
            "                                                                 \n",
            " spatial_dropout2d_1 (Spatia  (None, 32, 32, 32)       0         \n",
            " lDropout2D)                                                     \n",
            "                                                                 \n",
            " conv2d_2 (Conv2D)           (None, 32, 32, 32)        9248      \n",
            "                                                                 \n",
            " max_pooling2d_2 (MaxPooling  (None, 16, 16, 32)       0         \n",
            " 2D)                                                             \n",
            "                                                                 \n",
            " batch_normalization_1 (Batc  (None, 16, 16, 32)       128       \n",
            " hNormalization)                                                 \n",
            "                                                                 \n",
            " spatial_dropout2d_2 (Spatia  (None, 16, 16, 32)       0         \n",
            " lDropout2D)                                                     \n",
            "                                                                 \n",
            " conv2d_3 (Conv2D)           (None, 16, 16, 32)        9248      \n",
            "                                                                 \n",
            " max_pooling2d_3 (MaxPooling  (None, 8, 8, 32)         0         \n",
            " 2D)                                                             \n",
            "                                                                 \n",
            " batch_normalization_2 (Batc  (None, 8, 8, 32)         128       \n",
            " hNormalization)                                                 \n",
            "                                                                 \n",
            " spatial_dropout2d_3 (Spatia  (None, 8, 8, 32)         0         \n",
            " lDropout2D)                                                     \n",
            "                                                                 \n",
            " conv2d_4 (Conv2D)           (None, 8, 8, 32)          9248      \n",
            "                                                                 \n",
            " max_pooling2d_4 (MaxPooling  (None, 4, 4, 32)         0         \n",
            " 2D)                                                             \n",
            "                                                                 \n",
            " batch_normalization_3 (Batc  (None, 4, 4, 32)         128       \n",
            " hNormalization)                                                 \n",
            "                                                                 \n",
            " spatial_dropout2d_4 (Spatia  (None, 4, 4, 32)         0         \n",
            " lDropout2D)                                                     \n",
            "                                                                 \n",
            " conv2d_5 (Conv2D)           (None, 4, 4, 32)          9248      \n",
            "                                                                 \n",
            " max_pooling2d_5 (MaxPooling  (None, 2, 2, 32)         0         \n",
            " 2D)                                                             \n",
            "                                                                 \n",
            " batch_normalization_4 (Batc  (None, 2, 2, 32)         128       \n",
            " hNormalization)                                                 \n",
            "                                                                 \n",
            " spatial_dropout2d_5 (Spatia  (None, 2, 2, 32)         0         \n",
            " lDropout2D)                                                     \n",
            "                                                                 \n",
            " conv2d_6 (Conv2D)           (None, 2, 2, 32)          9248      \n",
            "                                                                 \n",
            " max_pooling2d_6 (MaxPooling  (None, 1, 1, 32)         0         \n",
            " 2D)                                                             \n",
            "                                                                 \n",
            " batch_normalization_5 (Batc  (None, 1, 1, 32)         128       \n",
            " hNormalization)                                                 \n",
            "                                                                 \n",
            " spatial_dropout2d_6 (Spatia  (None, 1, 1, 32)         0         \n",
            " lDropout2D)                                                     \n",
            "                                                                 \n",
            " flatten (Flatten)           (None, 32)                0         \n",
            "                                                                 \n",
            " dropout (Dropout)           (None, 32)                0         \n",
            "                                                                 \n",
            " dense (Dense)               (None, 128)               4224      \n",
            "                                                                 \n",
            " dropout_1 (Dropout)         (None, 128)               0         \n",
            "                                                                 \n",
            " dense_1 (Dense)             (None, 128)               16512     \n",
            "                                                                 \n",
            " dropout_2 (Dropout)         (None, 128)               0         \n",
            "                                                                 \n",
            " dense_2 (Dense)             (None, 1)                 129       \n",
            "                                                                 \n",
            "=================================================================\n",
            "Total params: 78,017\n",
            "Trainable params: 77,633\n",
            "Non-trainable params: 384\n",
            "_________________________________________________________________\n"
          ]
        }
      ],
      "source": [
        "cnn.summary()"
      ]
    },
    {
      "cell_type": "markdown",
      "metadata": {
        "id": "ANKfiBG1ubJL"
      },
      "source": [
        "# **Training the CNN on the Training set and evaluating it on the Test set**"
      ]
    },
    {
      "cell_type": "code",
      "execution_count": null,
      "metadata": {
        "colab": {
          "background_save": true,
          "base_uri": "https://localhost:8080/"
        },
        "id": "d6uFAWhcuW9r",
        "outputId": "790274f4-5a56-4d7d-caf9-a52d0d43d142"
      },
      "outputs": [
        {
          "name": "stderr",
          "output_type": "stream",
          "text": [
            "/usr/local/lib/python3.7/dist-packages/ipykernel_launcher.py:2: UserWarning: `Model.fit_generator` is deprecated and will be removed in a future version. Please use `Model.fit`, which supports generators.\n",
            "  \n"
          ]
        },
        {
          "name": "stdout",
          "output_type": "stream",
          "text": [
            "Epoch 1/50\n",
            "326/326 [==============================] - 854s 3s/step - loss: 0.6720 - accuracy: 0.6938 - val_loss: 0.6543 - val_accuracy: 0.6250\n",
            "Epoch 2/50\n",
            "326/326 [==============================] - 208s 639ms/step - loss: 0.6050 - accuracy: 0.7293 - val_loss: 0.6527 - val_accuracy: 0.6250\n",
            "Epoch 3/50\n",
            "326/326 [==============================] - 208s 638ms/step - loss: 0.5827 - accuracy: 0.7385 - val_loss: 0.6153 - val_accuracy: 0.6250\n",
            "Epoch 4/50\n",
            "326/326 [==============================] - 210s 644ms/step - loss: 0.5610 - accuracy: 0.7414 - val_loss: 0.6513 - val_accuracy: 0.6378\n",
            "Epoch 5/50\n",
            "326/326 [==============================] - 212s 648ms/step - loss: 0.5267 - accuracy: 0.7421 - val_loss: 0.5646 - val_accuracy: 0.6250\n",
            "Epoch 6/50\n",
            "326/326 [==============================] - 212s 648ms/step - loss: 0.4692 - accuracy: 0.7703 - val_loss: 0.4630 - val_accuracy: 0.8077\n",
            "Epoch 7/50\n",
            "326/326 [==============================] - 211s 646ms/step - loss: 0.3929 - accuracy: 0.8204 - val_loss: 0.3654 - val_accuracy: 0.8622\n",
            "Epoch 8/50\n",
            "326/326 [==============================] - 218s 667ms/step - loss: 0.3677 - accuracy: 0.8424 - val_loss: 0.4102 - val_accuracy: 0.8349\n",
            "Epoch 9/50\n",
            "326/326 [==============================] - 213s 653ms/step - loss: 0.3158 - accuracy: 0.8633 - val_loss: 0.3754 - val_accuracy: 0.8606\n",
            "Epoch 10/50\n",
            "326/326 [==============================] - 210s 643ms/step - loss: 0.2953 - accuracy: 0.8827 - val_loss: 0.3381 - val_accuracy: 0.8814\n",
            "Epoch 11/50\n",
            "326/326 [==============================] - 203s 623ms/step - loss: 0.2749 - accuracy: 0.8900 - val_loss: 0.5298 - val_accuracy: 0.8397\n",
            "Epoch 12/50\n",
            "326/326 [==============================] - 204s 624ms/step - loss: 0.2591 - accuracy: 0.8946 - val_loss: 0.5695 - val_accuracy: 0.8413\n",
            "Epoch 13/50\n",
            "326/326 [==============================] - 199s 610ms/step - loss: 0.2573 - accuracy: 0.8997 - val_loss: 0.3966 - val_accuracy: 0.9022\n",
            "Epoch 14/50\n",
            "326/326 [==============================] - 199s 609ms/step - loss: 0.2489 - accuracy: 0.9053 - val_loss: 0.3007 - val_accuracy: 0.8942\n",
            "Epoch 15/50\n",
            "326/326 [==============================] - 199s 610ms/step - loss: 0.2470 - accuracy: 0.9082 - val_loss: 0.3454 - val_accuracy: 0.9087\n",
            "Epoch 16/50\n",
            "326/326 [==============================] - 199s 610ms/step - loss: 0.2396 - accuracy: 0.9133 - val_loss: 0.3246 - val_accuracy: 0.9119\n",
            "Epoch 17/50\n",
            "326/326 [==============================] - 200s 612ms/step - loss: 0.2331 - accuracy: 0.9176 - val_loss: 0.3639 - val_accuracy: 0.8958\n",
            "Epoch 18/50\n",
            "326/326 [==============================] - 199s 609ms/step - loss: 0.2187 - accuracy: 0.9216 - val_loss: 0.4628 - val_accuracy: 0.8702\n",
            "Epoch 19/50\n",
            "326/326 [==============================] - 200s 614ms/step - loss: 0.2147 - accuracy: 0.9227 - val_loss: 0.3804 - val_accuracy: 0.8958\n",
            "Epoch 20/50\n",
            "326/326 [==============================] - 198s 607ms/step - loss: 0.2394 - accuracy: 0.9114 - val_loss: 0.3726 - val_accuracy: 0.9087\n",
            "Epoch 21/50\n",
            "326/326 [==============================] - 197s 604ms/step - loss: 0.2115 - accuracy: 0.9260 - val_loss: 0.3537 - val_accuracy: 0.8958\n",
            "Epoch 22/50\n",
            "276/326 [========================>.....] - ETA: 28s - loss: 0.2208 - accuracy: 0.9187"
          ]
        }
      ],
      "source": [
        "cnn1 = cnn.fit_generator(\n",
        "        training_set, steps_per_epoch=326, epochs=50, validation_data=test_set, validation_steps=39)"
      ]
    },
    {
      "cell_type": "code",
      "execution_count": null,
      "metadata": {
        "id": "-thMEmWOZCy-"
      },
      "outputs": [],
      "source": [
        "plt.figure(figsize=(12, 8))\n",
        "\n",
        "plt.subplot(2, 2, 1)\n",
        "plt.plot(cnn1.history['loss'], label='Loss')\n",
        "plt.plot(cnn1.history['val_loss'], label='Test_Loss')\n",
        "plt.legend()\n",
        "plt.title('Loss Evolution')\n",
        "\n",
        "plt.subplot(2, 2, 2)\n",
        "plt.plot(cnn1.history['accuracy'], label='Accuracy')\n",
        "plt.plot(cnn1.history['val_accuracy'], label='Test_Accuracy')\n",
        "plt.legend()\n",
        "plt.title('Accuracy Evolution')"
      ]
    },
    {
      "cell_type": "code",
      "execution_count": null,
      "metadata": {
        "id": "Mx2u_r4rZGp6"
      },
      "outputs": [],
      "source": [
        "evaluation = cnn1.evaluate(test_set)\n",
        "print(f\"Test Accuracy: {evaluation[1] * 100:.2f}%\")\n",
        "\n",
        "evaluation = cnn1.evaluate(training_set)\n",
        "print(f\"Train Accuracy: {evaluation[1] * 100:.2f}%\")"
      ]
    }
  ],
  "metadata": {
    "colab": {
      "collapsed_sections": [],
      "name": "Pneumonia Detection Using Deep Learning Based on Convolutional Neural Network.ipynb",
      "provenance": []
    },
    "kernelspec": {
      "display_name": "Python 3",
      "name": "python3"
    },
    "language_info": {
      "name": "python"
    }
  },
  "nbformat": 4,
  "nbformat_minor": 0
}